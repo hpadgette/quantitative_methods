{
 "cells": [
  {
   "cell_type": "markdown",
   "id": "cb13ab34",
   "metadata": {},
   "source": [
    "### Hannah Padgette\n",
    "### HW 9 "
   ]
  },
  {
   "cell_type": "code",
   "execution_count": 1,
   "id": "3dc147da",
   "metadata": {},
   "outputs": [],
   "source": [
    "import numpy as np\n",
    "import matplotlib.pyplot as plt\n",
    "import seaborn as sns\n",
    "import pandas as pd\n",
    "import scipy.stats as stats\n",
    "import scipy\n",
    "\n",
    "%matplotlib inline"
   ]
  },
  {
   "cell_type": "code",
   "execution_count": 2,
   "id": "8734a0c8-3ba5-47b1-9058-521cef195bf6",
   "metadata": {},
   "outputs": [],
   "source": [
    "colors=sns.color_palette(\"rocket\",15)"
   ]
  },
  {
   "cell_type": "markdown",
   "id": "aba84772",
   "metadata": {},
   "source": [
    "**HW 9-1**.  We collect a chromatogram using high-performance liquid chromatography with diode array detection (HPLC-DAD) sampled at 30 points in time (each at 1 s intervals) and 28 wavelengths at approximately 4.8 nm intervals, with absorbances in AU (absorbance units).  The data is in the attached csv file `chromatogram.csv`. The dataset can be considered to consist of a series of 30 spectra recorded sequentially in time, resulting from a mixture of compounds, each of which has its own characteristic underlying elution profile.\n",
    "\n",
    "\n",
    "a) Perform principal component analysis on this dataset.  In this situation, principal components represent directions of maximum variation of the spectra.  "
   ]
  },
  {
   "cell_type": "code",
   "execution_count": 3,
   "id": "4c981491",
   "metadata": {},
   "outputs": [
    {
     "name": "stdout",
     "output_type": "stream",
     "text": [
      "(30, 28)\n"
     ]
    },
    {
     "data": {
      "text/html": [
       "<div>\n",
       "<style scoped>\n",
       "    .dataframe tbody tr th:only-of-type {\n",
       "        vertical-align: middle;\n",
       "    }\n",
       "\n",
       "    .dataframe tbody tr th {\n",
       "        vertical-align: top;\n",
       "    }\n",
       "\n",
       "    .dataframe thead th {\n",
       "        text-align: right;\n",
       "    }\n",
       "</style>\n",
       "<table border=\"1\" class=\"dataframe\">\n",
       "  <thead>\n",
       "    <tr style=\"text-align: right;\">\n",
       "      <th></th>\n",
       "      <th>0</th>\n",
       "      <th>1</th>\n",
       "      <th>2</th>\n",
       "      <th>3</th>\n",
       "      <th>4</th>\n",
       "      <th>5</th>\n",
       "      <th>6</th>\n",
       "      <th>7</th>\n",
       "      <th>8</th>\n",
       "      <th>9</th>\n",
       "      <th>...</th>\n",
       "      <th>18</th>\n",
       "      <th>19</th>\n",
       "      <th>20</th>\n",
       "      <th>21</th>\n",
       "      <th>22</th>\n",
       "      <th>23</th>\n",
       "      <th>24</th>\n",
       "      <th>25</th>\n",
       "      <th>26</th>\n",
       "      <th>27</th>\n",
       "    </tr>\n",
       "  </thead>\n",
       "  <tbody>\n",
       "    <tr>\n",
       "      <th>0</th>\n",
       "      <td>0.006</td>\n",
       "      <td>0.004</td>\n",
       "      <td>0.003</td>\n",
       "      <td>0.003</td>\n",
       "      <td>0.003</td>\n",
       "      <td>0.004</td>\n",
       "      <td>0.004</td>\n",
       "      <td>0.003</td>\n",
       "      <td>0.002</td>\n",
       "      <td>0.003</td>\n",
       "      <td>...</td>\n",
       "      <td>0.002</td>\n",
       "      <td>0.003</td>\n",
       "      <td>0.003</td>\n",
       "      <td>0.002</td>\n",
       "      <td>0.002</td>\n",
       "      <td>0.001</td>\n",
       "      <td>0.001</td>\n",
       "      <td>0.000</td>\n",
       "      <td>0.000</td>\n",
       "      <td>0.000</td>\n",
       "    </tr>\n",
       "    <tr>\n",
       "      <th>1</th>\n",
       "      <td>0.040</td>\n",
       "      <td>0.029</td>\n",
       "      <td>0.023</td>\n",
       "      <td>0.021</td>\n",
       "      <td>0.026</td>\n",
       "      <td>0.030</td>\n",
       "      <td>0.029</td>\n",
       "      <td>0.023</td>\n",
       "      <td>0.018</td>\n",
       "      <td>0.021</td>\n",
       "      <td>...</td>\n",
       "      <td>0.017</td>\n",
       "      <td>0.019</td>\n",
       "      <td>0.019</td>\n",
       "      <td>0.017</td>\n",
       "      <td>0.013</td>\n",
       "      <td>0.009</td>\n",
       "      <td>0.005</td>\n",
       "      <td>0.002</td>\n",
       "      <td>0.001</td>\n",
       "      <td>0.000</td>\n",
       "    </tr>\n",
       "    <tr>\n",
       "      <th>2</th>\n",
       "      <td>0.159</td>\n",
       "      <td>0.115</td>\n",
       "      <td>0.091</td>\n",
       "      <td>0.085</td>\n",
       "      <td>0.101</td>\n",
       "      <td>0.120</td>\n",
       "      <td>0.117</td>\n",
       "      <td>0.090</td>\n",
       "      <td>0.071</td>\n",
       "      <td>0.084</td>\n",
       "      <td>...</td>\n",
       "      <td>0.069</td>\n",
       "      <td>0.075</td>\n",
       "      <td>0.075</td>\n",
       "      <td>0.067</td>\n",
       "      <td>0.053</td>\n",
       "      <td>0.035</td>\n",
       "      <td>0.019</td>\n",
       "      <td>0.008</td>\n",
       "      <td>0.003</td>\n",
       "      <td>0.001</td>\n",
       "    </tr>\n",
       "    <tr>\n",
       "      <th>3</th>\n",
       "      <td>0.367</td>\n",
       "      <td>0.267</td>\n",
       "      <td>0.212</td>\n",
       "      <td>0.198</td>\n",
       "      <td>0.236</td>\n",
       "      <td>0.280</td>\n",
       "      <td>0.271</td>\n",
       "      <td>0.209</td>\n",
       "      <td>0.165</td>\n",
       "      <td>0.194</td>\n",
       "      <td>...</td>\n",
       "      <td>0.160</td>\n",
       "      <td>0.173</td>\n",
       "      <td>0.174</td>\n",
       "      <td>0.157</td>\n",
       "      <td>0.123</td>\n",
       "      <td>0.081</td>\n",
       "      <td>0.043</td>\n",
       "      <td>0.019</td>\n",
       "      <td>0.008</td>\n",
       "      <td>0.003</td>\n",
       "    </tr>\n",
       "    <tr>\n",
       "      <th>4</th>\n",
       "      <td>0.552</td>\n",
       "      <td>0.405</td>\n",
       "      <td>0.321</td>\n",
       "      <td>0.296</td>\n",
       "      <td>0.352</td>\n",
       "      <td>0.419</td>\n",
       "      <td>0.405</td>\n",
       "      <td>0.312</td>\n",
       "      <td>0.247</td>\n",
       "      <td>0.291</td>\n",
       "      <td>...</td>\n",
       "      <td>0.244</td>\n",
       "      <td>0.262</td>\n",
       "      <td>0.262</td>\n",
       "      <td>0.234</td>\n",
       "      <td>0.183</td>\n",
       "      <td>0.120</td>\n",
       "      <td>0.065</td>\n",
       "      <td>0.029</td>\n",
       "      <td>0.011</td>\n",
       "      <td>0.004</td>\n",
       "    </tr>\n",
       "  </tbody>\n",
       "</table>\n",
       "<p>5 rows × 28 columns</p>\n",
       "</div>"
      ],
      "text/plain": [
       "      0      1      2      3      4      5      6      7      8      9   ...  \\\n",
       "0  0.006  0.004  0.003  0.003  0.003  0.004  0.004  0.003  0.002  0.003  ...   \n",
       "1  0.040  0.029  0.023  0.021  0.026  0.030  0.029  0.023  0.018  0.021  ...   \n",
       "2  0.159  0.115  0.091  0.085  0.101  0.120  0.117  0.090  0.071  0.084  ...   \n",
       "3  0.367  0.267  0.212  0.198  0.236  0.280  0.271  0.209  0.165  0.194  ...   \n",
       "4  0.552  0.405  0.321  0.296  0.352  0.419  0.405  0.312  0.247  0.291  ...   \n",
       "\n",
       "      18     19     20     21     22     23     24     25     26     27  \n",
       "0  0.002  0.003  0.003  0.002  0.002  0.001  0.001  0.000  0.000  0.000  \n",
       "1  0.017  0.019  0.019  0.017  0.013  0.009  0.005  0.002  0.001  0.000  \n",
       "2  0.069  0.075  0.075  0.067  0.053  0.035  0.019  0.008  0.003  0.001  \n",
       "3  0.160  0.173  0.174  0.157  0.123  0.081  0.043  0.019  0.008  0.003  \n",
       "4  0.244  0.262  0.262  0.234  0.183  0.120  0.065  0.029  0.011  0.004  \n",
       "\n",
       "[5 rows x 28 columns]"
      ]
     },
     "execution_count": 3,
     "metadata": {},
     "output_type": "execute_result"
    }
   ],
   "source": [
    "# import CSV file using pandas\n",
    "df = pd.read_csv('chromatogram.csv', header=None) # load the data file\n",
    "\n",
    "# rows - these are the timepoints (1-30s)\n",
    "# columns - these are the 28 different wavelengths\n",
    "print(np.shape(df))\n",
    "\n",
    "df.head() # take a look at the dataframe to get an idea of the data structure"
   ]
  },
  {
   "cell_type": "code",
   "execution_count": 4,
   "id": "100a12e1-a871-4f90-b577-af2be522e35d",
   "metadata": {},
   "outputs": [],
   "source": [
    "# From class 16 notes - Prior to conducting PCA you should:\n",
    "# - Set all the means of each Xi equal to zero (necessary)\n",
    "# - Set the variance of each Xi equal to one (potentially useful)\n",
    "\n",
    "df = (df-df.mean(axis=0))/df.std(axis=0) \n",
    "\n",
    "# do PCA on the dataset by performing singular value decomposition (SVD)\n",
    "u,s,v = np.linalg.svd(df)\n",
    "\n",
    "# u - contains principal components, directions of max variation\n",
    "# s - singular values\n",
    "# v - V matrix: in the numpy implementation is V^T. eigenvalues are the transpose of this"
   ]
  },
  {
   "cell_type": "markdown",
   "id": "d68a0d3b-74c2-47b8-bfc0-81c15ffc8c83",
   "metadata": {},
   "source": [
    "b) Estimate the number of compounds in this mixture present at more than 0.1\\%."
   ]
  },
  {
   "cell_type": "code",
   "execution_count": 5,
   "id": "3811f9e4-4620-45d7-8034-bdf4c981df6a",
   "metadata": {},
   "outputs": [
    {
     "name": "stdout",
     "output_type": "stream",
     "text": [
      "The estimated number of compounds present at more than 0.1% is 3\n"
     ]
    }
   ],
   "source": [
    "# need to find the number of components required to explain 99% of the variance\n",
    "# from Lecture 15:\n",
    "#  - the singular values are the square roots of the eigenvalues, which are the variances\n",
    "#  - the PCA explained variance ratio for the principal component i is lambda_i / sum(lambda_k)\n",
    "\n",
    "explainedVarianceRatio = s**2/np.sum(s**2)\n",
    "\n",
    "# the number of compounds in the mixture present at more than 0.1% \n",
    "# is equivalent to the number of PCA components which explain at least 99.9% of the variance\n",
    "numCompounds = np.where(explainedVarianceRatio>0.001)  \n",
    "\n",
    "# numCompounds[0] is an array for which the length is equal to \n",
    "# the number of PCA components which explain at least 99.9% of the variance\n",
    "print(f\"The estimated number of compounds present at more than 0.1% is {len(numCompounds[0])}\")"
   ]
  },
  {
   "cell_type": "markdown",
   "id": "035d1992-a2b1-4a1c-ba39-97ee3f9ff7d8",
   "metadata": {},
   "source": [
    "c) Are the eigenvectors the spectra of the individual components?  Argue why or why not. "
   ]
  },
  {
   "cell_type": "markdown",
   "id": "98c9d2f6-1206-4883-a83f-b0911419ac5f",
   "metadata": {},
   "source": [
    "- The eigenvectors of the covariance matrix are the principal components while the corresponding eigenvalues are the weights (amount of variance in the direction of vi)\n",
    "- The eigenvectors just tell us the directions of the covariance, they're not the actual spectra of individual components.\n",
    "- ChatGPT: each eigenvector is a linear combination of the original spectral data and therefore represent a combination of different wavelengths, not individual components. "
   ]
  },
  {
   "cell_type": "markdown",
   "id": "4af629e5",
   "metadata": {},
   "source": [
    "**HW 9-2**. The file `EIA923_Schedules_2_3_4_5_M_12_2022_Final.xlsx` from the EIA contains data regarding power plant operations in the US in 2022. Each row corresponds to a generation site and specific generation activity. For example, the first two rows correspond to electricity generation from petroleum distillate and wind respectively at the Sand Point plant in Alaska.\n",
    "\n",
    "Use the pandas `read_excel` method to import the data from the first sheet of the file, using the `header` keyword argument to correctly specify the column names. Use this data to anwser the following:\n",
    "\n",
    "\n",
    "(a) Which 3 types of generation (as classified by the AER Fuel Type Code) contributed the largest amount to the overall US electricity generation in 2022? Refer to the last sheet in the excel file to interpret the fuel type codes."
   ]
  },
  {
   "cell_type": "code",
   "execution_count": 6,
   "id": "ccb00acc-9ed0-4241-b7db-af4fcc9434be",
   "metadata": {},
   "outputs": [],
   "source": [
    "df2 = pd.read_excel('EIA923_Schedules_2_3_4_5_M_12_2022_Final.xlsx',sheet_name=0,header=5)"
   ]
  },
  {
   "cell_type": "code",
   "execution_count": 7,
   "id": "e40ab36a-6fce-4fc0-9a95-4c11cdc85d54",
   "metadata": {},
   "outputs": [
    {
     "data": {
      "text/html": [
       "<div>\n",
       "<style scoped>\n",
       "    .dataframe tbody tr th:only-of-type {\n",
       "        vertical-align: middle;\n",
       "    }\n",
       "\n",
       "    .dataframe tbody tr th {\n",
       "        vertical-align: top;\n",
       "    }\n",
       "\n",
       "    .dataframe thead th {\n",
       "        text-align: right;\n",
       "    }\n",
       "</style>\n",
       "<table border=\"1\" class=\"dataframe\">\n",
       "  <thead>\n",
       "    <tr style=\"text-align: right;\">\n",
       "      <th></th>\n",
       "      <th>AER\\nFuel Type Code</th>\n",
       "      <th>Net Generation\\n(Megawatthours)</th>\n",
       "    </tr>\n",
       "  </thead>\n",
       "  <tbody>\n",
       "    <tr>\n",
       "      <th>0</th>\n",
       "      <td>DFO</td>\n",
       "      <td>2903.0</td>\n",
       "    </tr>\n",
       "    <tr>\n",
       "      <th>1</th>\n",
       "      <td>WND</td>\n",
       "      <td>707.0</td>\n",
       "    </tr>\n",
       "    <tr>\n",
       "      <th>2</th>\n",
       "      <td>HYC</td>\n",
       "      <td>174904.0</td>\n",
       "    </tr>\n",
       "    <tr>\n",
       "      <th>3</th>\n",
       "      <td>NG</td>\n",
       "      <td>2817683.0</td>\n",
       "    </tr>\n",
       "    <tr>\n",
       "      <th>4</th>\n",
       "      <td>NG</td>\n",
       "      <td>5336143.0</td>\n",
       "    </tr>\n",
       "  </tbody>\n",
       "</table>\n",
       "</div>"
      ],
      "text/plain": [
       "  AER\\nFuel Type Code  Net Generation\\n(Megawatthours)\n",
       "0                 DFO                           2903.0\n",
       "1                 WND                            707.0\n",
       "2                 HYC                         174904.0\n",
       "3                  NG                        2817683.0\n",
       "4                  NG                        5336143.0"
      ]
     },
     "execution_count": 7,
     "metadata": {},
     "output_type": "execute_result"
    }
   ],
   "source": [
    "# extract out only the AER Fuel Type Code and Net Generation Data for analysis\n",
    "df2_extracted = df2[['AER\\nFuel Type Code','Net Generation\\n(Megawatthours)']]\n",
    "df2_extracted.head()"
   ]
  },
  {
   "cell_type": "code",
   "execution_count": 8,
   "id": "7c4deb64-6e6d-40c2-a248-56373d41023b",
   "metadata": {},
   "outputs": [],
   "source": [
    "# group the data so that onr column of the grouped data frame corresponds to the AER Fuel Type Code and the other is the total net generation for that fuel type \n",
    "genByFuelType = df2_extracted.groupby('AER\\nFuel Type Code')['Net Generation\\n(Megawatthours)'].sum()\n",
    "\n",
    "# order the data so that it's descending - first 3 columns will be the 3 types of generation which contributed largest to the amount of overall electricity generation in 2022\n",
    "genByFuelType_descending = genByFuelType.sort_values(ascending=False)"
   ]
  },
  {
   "cell_type": "code",
   "execution_count": 9,
   "id": "76b78c51-6da1-4f87-b7be-805885c78b53",
   "metadata": {},
   "outputs": [],
   "source": [
    "# import the fuel type codes and their descriptions\n",
    "df_fuelTypes = pd.read_excel('EIA923_Schedules_2_3_4_5_M_12_2022_Final.xlsx',sheet_name=-1,header=108,nrows=18)\n",
    "column_names = df_fuelTypes.columns.tolist()\n",
    "df_fuelTypes.rename(columns={column_names[1]: 'Fuel Code Description'}, inplace=True)"
   ]
  },
  {
   "cell_type": "code",
   "execution_count": 10,
   "id": "1ccc1312-0773-4c9a-b0d7-f85a3aacfaaf",
   "metadata": {},
   "outputs": [],
   "source": [
    "# ChatGPT to help me iterate through the df_fuelTypes code and print the description of the codes needed\n",
    "\n",
    "# find the 3 top fuel types which most contributed to net generation\n",
    "name1 = genByFuelType_descending.iloc[:3].index[0]\n",
    "name2 = genByFuelType_descending.iloc[:3].index[1]\n",
    "name3 = genByFuelType_descending.iloc[:3].index[2]\n",
    "\n",
    "# since the fuel codes have whitespace in the Excel sheet, need to add an equivalent amount of\n",
    "# space to be able to match the top 3 fuel types with their respective descriptions\n",
    "code1 = '                           '+name1\n",
    "code2 = '                           '+name2\n",
    "code3 = '                           '+name3\n",
    "\n",
    "for index, row in df_fuelTypes.iterrows():\n",
    "    if row['AER Fuel Type Code'] == code1:\n",
    "        description_code1 = row['Fuel Code Description']\n",
    "        break  # stop the loop after finding the first matching code\n",
    "\n",
    "for index, row in df_fuelTypes.iterrows():\n",
    "    if row['AER Fuel Type Code'] == code2:\n",
    "        description_code2 = row['Fuel Code Description']\n",
    "        break  # stop the loop after finding the first matching code\n",
    "\n",
    "for index, row in df_fuelTypes.iterrows():\n",
    "    if row['AER Fuel Type Code'] == code3:\n",
    "        description_code3 = row['Fuel Code Description']\n",
    "        break  # stop the loop after finding the first matching code"
   ]
  },
  {
   "cell_type": "code",
   "execution_count": 11,
   "id": "ffe9aaa9-4323-4e83-bace-86b00fdee438",
   "metadata": {},
   "outputs": [
    {
     "name": "stdout",
     "output_type": "stream",
     "text": [
      "The following types of generation (as classified by the AER Fuel Type Code) contributed the larget amount to the overall US electricity generation in 2022:\n",
      "1 - NG, Natural Gas, with 1.687e+09 Megawatthours generated in 2022.\n",
      "2 - COL, Coal , with 8.236e+08 Megawatthours generated in 2022.\n",
      "3 - NUC, Nuclear, with 7.715e+08 Megawatthours generated in 2022.\n"
     ]
    }
   ],
   "source": [
    "print(f'The following types of generation (as classified by the AER Fuel Type Code) contributed the larget amount to the overall US electricity generation in 2022:')\n",
    "print(f'1 - {genByFuelType_descending.iloc[:3].index[0]}, {description_code1}, with {genByFuelType_descending.iloc[:3][0]:.3e} Megawatthours generated in 2022.')\n",
    "print(f'2 - {genByFuelType_descending.iloc[:3].index[1]}, {description_code2}, with {genByFuelType_descending.iloc[:3][1]:.3e} Megawatthours generated in 2022.')\n",
    "print(f'3 - {genByFuelType_descending.iloc[:3].index[2]}, {description_code3}, with {genByFuelType_descending.iloc[:3][2]:.3e} Megawatthours generated in 2022.')"
   ]
  },
  {
   "cell_type": "markdown",
   "id": "46438b7e-93b4-47ca-9719-f636b14f6848",
   "metadata": {},
   "source": [
    "ChatGPT use noted in comments above and the following resources were additionally referenced to aid me in completing this problem:\n",
    "- https://pandas.pydata.org/docs/reference/api/pandas.read_excel.html\n",
    "- https://cheatography.com/brianallan/cheat-sheets/python-f-strings-number-formatting/"
   ]
  },
  {
   "cell_type": "markdown",
   "id": "600860db-27b7-4726-9362-9e819ba515ee",
   "metadata": {},
   "source": [
    "(b) Produce a three panel figure. In the first panel, compare the top three generation types with a scatter plot of the means that includes error bars for a 99% confidence interval. In the second panel, show another scatter plot of the means with error bars determined using the standard deviation. In the third panel, show three box plots corresponding to each of the top three generation types."
   ]
  },
  {
   "cell_type": "code",
   "execution_count": 12,
   "id": "e9c0c05c-12b6-4b09-ab65-d0d04455be0f",
   "metadata": {},
   "outputs": [],
   "source": [
    "df2_extracted.head()\n",
    "\n",
    "# get the means\n",
    "allMeanValues = df2_extracted.groupby('AER\\nFuel Type Code')['Net Generation\\n(Megawatthours)'].mean()\n",
    "for index, value in allMeanValues.items():\n",
    "    if index == name1:\n",
    "        mean_name1 = value\n",
    "        break\n",
    "for index, value in allMeanValues.items():\n",
    "    if index == name2:\n",
    "        mean_name2 = value\n",
    "        break\n",
    "for index, value in allMeanValues.items():\n",
    "    if index == name3:\n",
    "        mean_name3 = value\n",
    "        break\n",
    "\n",
    "# get the standard deviations\n",
    "allSTDValues = df2_extracted.groupby('AER\\nFuel Type Code')['Net Generation\\n(Megawatthours)'].std()\n",
    "for index, value in allSTDValues.items():\n",
    "    if index == name1:\n",
    "        std_name1 = value\n",
    "        break\n",
    "for index, value in allSTDValues.items():\n",
    "    if index == name2:\n",
    "        std_name2 = value\n",
    "        break\n",
    "for index, value in allSTDValues.items():\n",
    "    if index == name3:\n",
    "        std_name3 = value\n",
    "        break\n",
    "\n",
    "# get the standard error of the means\n",
    "allSEMValues = df2_extracted.groupby('AER\\nFuel Type Code')['Net Generation\\n(Megawatthours)'].sem()\n",
    "for index, value in allSEMValues.items():\n",
    "    if index == name1:\n",
    "        sem_name1 = value\n",
    "        break\n",
    "for index, value in allSEMValues.items():\n",
    "    if index == name2:\n",
    "        sem_name2 = value\n",
    "        break\n",
    "for index, value in allSEMValues.items():\n",
    "    if index == name3:\n",
    "        sem_name3 = value\n",
    "        break\n",
    "\n",
    "# get the number of datapoints for each group\n",
    "nValues = df2_extracted.groupby('AER\\nFuel Type Code')['Net Generation\\n(Megawatthours)'].size()\n",
    "for index, value in nValues.items():\n",
    "    if index == name1:\n",
    "        n_name1 = value\n",
    "        break\n",
    "for index, value in nValues.items():\n",
    "    if index == name2:\n",
    "        n_name2 = value\n",
    "        break\n",
    "for index, value in nValues.items():\n",
    "    if index == name3:\n",
    "        n_name3 = value\n",
    "        break\n",
    "\n",
    "# calculate 99% confidence intervals for each group\n",
    "ci99_name1 = sem_name1 * stats.t.isf((1-0.99)/2,n_name1-1)\n",
    "ci99_name2 = sem_name2 * stats.t.isf((1-0.99)/2,n_name2-1)\n",
    "ci99_name3 = sem_name3 * stats.t.isf((1-0.99)/2,n_name3-1)"
   ]
  },
  {
   "cell_type": "code",
   "execution_count": 13,
   "id": "623f734d-ca57-4eac-ac33-0bf2fbb8edcb",
   "metadata": {},
   "outputs": [
    {
     "data": {
      "text/plain": [
       "(-2000000.0, 13000000.0)"
      ]
     },
     "execution_count": 13,
     "metadata": {},
     "output_type": "execute_result"
    },
    {
     "data": {
      "image/png": "[encoded data removed]",
      "text/plain": [
       "<Figure size 1200x500 with 3 Axes>"
      ]
     },
     "metadata": {},
     "output_type": "display_data"
    }
   ],
   "source": [
    "fig, ax = plt.subplots(nrows=1, ncols=3, figsize=(12, 5), sharey=True)\n",
    "\n",
    "w=0.1\n",
    "\n",
    "ax[0].bar(1.05,height=mean_name1,yerr=ci99_name1,capsize=12,width=w,alpha=0)\n",
    "ax[0].scatter(1.05,mean_name1,color='b',label=f'{name1}')\n",
    "ax[0].bar(1,height=mean_name2,yerr=ci99_name2,capsize=12,width=w,alpha=0)\n",
    "ax[0].scatter(1,mean_name2,color='r',label=f'{name2}')\n",
    "ax[0].bar(0.95,height=mean_name3,yerr=ci99_name3,capsize=12,width=w,alpha=0)\n",
    "ax[0].scatter(0.95,mean_name3,color='g',label=f'{name3}')\n",
    "ax[0].set_title('Means w/ 99% Confidence Interval Error Bars',fontsize=7)\n",
    "ax[0].legend(fontsize=7,loc='upper left')\n",
    "ax[0].set_ylim(-0.2*10**7,1.3*10**7)\n",
    "ax[0].set_ylabel('Mean Generation (Megawatthours)')\n",
    "\n",
    "ax[1].bar(1.05,height=mean_name1,yerr=std_name1,capsize=12,width=w,alpha=0)\n",
    "ax[1].scatter(1.05,mean_name1,color='b',label=f'{name1}')\n",
    "ax[1].bar(1,height=mean_name2,yerr=std_name2,capsize=12,width=w,alpha=0)\n",
    "ax[1].scatter(1,mean_name2,color='r',label=f'{name2}')\n",
    "ax[1].bar(0.95,height=mean_name3,yerr=std_name3,capsize=12,width=w,alpha=0)\n",
    "ax[1].scatter(0.95,mean_name3,color='g',label=f'{name3}')\n",
    "ax[1].set_title('Means w/ Std. Deviation Error Bars',fontsize=7)\n",
    "ax[1].legend(fontsize=7,loc='upper left')\n",
    "ax[1].set_ylim(-0.2*10**7,1.3*10**7)\n",
    "\n",
    "df_name1 = df2_extracted[df2_extracted['AER\\nFuel Type Code'] == name1]\n",
    "df_name2 = df2_extracted[df2_extracted['AER\\nFuel Type Code'] == name2]\n",
    "df_name3 = df2_extracted[df2_extracted['AER\\nFuel Type Code'] == name3]\n",
    "combined_df = pd.concat([df_name1, df_name2, df_name3])\n",
    "\n",
    "customColors = {name1: 'b', name2: 'r', name3: 'g'}\n",
    "\n",
    "sns.boxplot(data=combined_df,x='AER\\nFuel Type Code',y='Net Generation\\n(Megawatthours)',palette=customColors,ax=ax[2])\n",
    "ax[2].set_xlabel('')  # remove x-axis label\n",
    "ax[2].set_ylabel('')  # remove y-axis label\n",
    "ax[2].set_ylim(-0.2*10**7,1.3*10**7)"
   ]
  },
  {
   "cell_type": "markdown",
   "id": "21308d0f-ced7-4017-a36c-05ad69df9f98",
   "metadata": {},
   "source": [
    "(c) Briefly compare the three plots, and provide a plausible explanation for the differences you observe between the different generation types."
   ]
  },
  {
   "cell_type": "markdown",
   "id": "43c23e2b-427a-4864-ac42-450776eec8f9",
   "metadata": {},
   "source": [
    "- The standard deviation error bars are much larger than the 99% confidence interval error bars, particularly in the COL and NUC groups. Looking at the boxplots of the data, this makes sense since you can visually see that there appears to be a lot of variation in those two datasets - there are a lot of outliers which would be contributing to the overall high standard deviations!"
   ]
  },
  {
   "cell_type": "markdown",
   "id": "35b206ce",
   "metadata": {},
   "source": [
    "**HW 9-3**. I am  trying to measure the rate constant for a particular enzyme to determine whether it is equal to the rate of another enzyme, which is $1.4\\times 10^4$ s$^{-1}$, within statistical error.  (You may use the `scipy.stats` t-tests).\n",
    "\n",
    "  a) I make 5 measurements, 1.6, 1.4, 1.3, 1.8, and 1.9 (in $10^{4}$ s$^{-1}$). Can I conclude that the rate constant is different at the $\\alpha=0.01$ confidence level?"
   ]
  },
  {
   "cell_type": "code",
   "execution_count": 14,
   "id": "1bac819c",
   "metadata": {},
   "outputs": [
    {
     "name": "stdout",
     "output_type": "stream",
     "text": [
      "The p-value for this test is 0.154. Since this is greater than our alpha, 0.01, we fail to reject the null hypothesis and conclude that the rate constant IS NOT different at the 0.01 confidence level\n"
     ]
    }
   ],
   "source": [
    "data_p3 = np.array([1.6,1.4,1.3,1.8,1.9])\n",
    "mean = np.mean(data_p3)\n",
    "std = np.std(data_p3)\n",
    "popRate = 1.4\n",
    "alpha = 0.01\n",
    "\n",
    "tstat,pval = stats.ttest_1samp(data_p3,popRate)\n",
    "\n",
    "if pval<alpha:\n",
    "    print(f'The p-value for this test is {pval:.3f}. Since this is less than our alpha, {alpha}, we reject the null hypothesis and conclude that the rate constant IS different at the {alpha} confidence level')\n",
    "else:\n",
    "    print(f'The p-value for this test is {pval:.3f}. Since this is greater than our alpha, {alpha}, we fail to reject the null hypothesis and conclude that the rate constant IS NOT different at the {alpha} confidence level')"
   ]
  },
  {
   "cell_type": "markdown",
   "id": "36a64118",
   "metadata": {},
   "source": [
    "b) How many measurements, if the sample had the same mean and sample standard deviation, do I need to make to conclude that the rate constant is different than the original enzyme at the $\\alpha=0.01$ confidence level? "
   ]
  },
  {
   "cell_type": "code",
   "execution_count": 15,
   "id": "95f7a448-6bfa-40bb-854e-705dd8ba2b02",
   "metadata": {},
   "outputs": [
    {
     "name": "stdout",
     "output_type": "stream",
     "text": [
      "With 13 measurements, the p-value for this test is 0.008. Since this is less than our alpha, 0.01, we can conclude that the rate constant is different than the original enzyme at the 0.01 confidence level!\n"
     ]
    }
   ],
   "source": [
    "num = 13 # manually increase this until the p value is less than 0.01!\n",
    "alpha = 0.01\n",
    "\n",
    "# calculate the test statistic using the equation in class 17 notes\n",
    "t = (mean-popRate)/(std/np.sqrt(num)) \n",
    "\n",
    "# cdf just evaluates the cdf at the input t-value, giving area of left tail\n",
    "# multiply by 2 since this is a two-tailed test!\n",
    "p = stats.t.cdf(-1*np.abs(t),num-1)*2\n",
    "\n",
    "if p<alpha:\n",
    "    print(f'With {num} measurements, the p-value for this test is {p:.3f}. Since this is less than our alpha, {alpha}, we can conclude that the rate constant is different than the original enzyme at the {alpha} confidence level!')\n",
    "else:\n",
    "    print(f'With {num} measurements, the p-value for this test is {p:.3f}. Since this is greater than our alpha, {alpha}, we cannot conclude that the rate constant is different than the original enzyme at the {alpha} confidence level. \\n\\nWe need more measurements!')"
   ]
  },
  {
   "cell_type": "markdown",
   "id": "d3fba401",
   "metadata": {},
   "source": [
    "**HW 9-4**. Now I am interested in analyzing the data above with a new enzyme, and I want to know if it is has a *higher* rate constant than our old enzyme (so I can start using the new one!) The old enzyme had rate constant of $1.4\\times 10^4$ s$^{-1}$.\n",
    "\n",
    "a) I make the same 5 measurements as above. Can I conclude that the rate constant is higher than that of the old enzyme at the $\\alpha=0.01$ confidence level?"
   ]
  },
  {
   "cell_type": "code",
   "execution_count": 16,
   "id": "d397b90f-c628-4df6-a4ee-5c0b842c9d1c",
   "metadata": {},
   "outputs": [
    {
     "name": "stdout",
     "output_type": "stream",
     "text": [
      "The p-value for this test is 0.077. Since this is greater than our alpha, 0.01, we fail to reject the null hypothesis and conclude that the rate constant IS NOT different at the 0.01 confidence level\n"
     ]
    }
   ],
   "source": [
    "tstat,pval = stats.ttest_1samp(data_p3,popRate,alternative='greater')\n",
    "\n",
    "if pval<alpha:\n",
    "    print(f'The p-value for this test is {pval:.3f}. Since this is less than our alpha, {alpha}, we reject the null hypothesis and conclude that the rate constant IS different at the {alpha} confidence level')\n",
    "else:\n",
    "    print(f'The p-value for this test is {pval:.3f}. Since this is greater than our alpha, {alpha}, we fail to reject the null hypothesis and conclude that the rate constant IS NOT different at the {alpha} confidence level')"
   ]
  },
  {
   "cell_type": "markdown",
   "id": "ec9fa94e",
   "metadata": {},
   "source": [
    "b) How many measurements, with the same mean and sample standard deviation, do I need to make to conclude that the rate constant is higher than $1.4 \\times 10^{4}$ $s^{-1}$ at the $\\alpha=0.01$ confidence level?"
   ]
  },
  {
   "cell_type": "code",
   "execution_count": 17,
   "id": "10a4d3b7-2317-49da-8871-574e1934e5cf",
   "metadata": {},
   "outputs": [
    {
     "name": "stdout",
     "output_type": "stream",
     "text": [
      "With 10 measurements, the p-value for this test is 0.011. Since this is greater than our alpha, 0.01, we cannot conclude that the rate constant is different than the original enzyme at the 0.01 confidence level. \n",
      "\n",
      "We need more measurements!\n"
     ]
    }
   ],
   "source": [
    "num = 10 # manually increase this until the p value is less than 0.01!\n",
    "alpha = 0.01\n",
    "\n",
    "# calculate the test statistic using the equation in class 17 notes\n",
    "t = (mean-popRate)/(std/np.sqrt(num)) \n",
    "\n",
    "# cdf just evaluates the cdf at the input t-value, giving area of left tail\n",
    "# do NOT multiply by 2 since this is a one-tailed test!\n",
    "p = stats.t.cdf(-1*np.abs(t),num-1)\n",
    "\n",
    "if p<alpha:\n",
    "    print(f'With {num} measurements, the p-value for this test is {p:.3f}. Since this is less than our alpha, {alpha}, we can conclude that the rate constant is different than the original enzyme at the {alpha} confidence level!')\n",
    "else:\n",
    "    print(f'With {num} measurements, the p-value for this test is {p:.3f}. Since this is greater than our alpha, {alpha}, we cannot conclude that the rate constant is different than the original enzyme at the {alpha} confidence level. \\n\\nWe need more measurements!')"
   ]
  },
  {
   "cell_type": "markdown",
   "id": "e0114691",
   "metadata": {},
   "source": [
    "**HW 9-5**. I was a bit sloppy with that last test. I realized that I didn't have very precise data on the first enzyme!  I go back and look at the previous student's lab notebook and find that the rate of the old enzyme was determined as $1.4 \\times 10^{4}$ $s^{-1}$ using 5 measurements, with a standard deviation of 0.3. \n",
    "\n",
    "a) Can I conclude that the rate constant for the new enzyme is higher than the old one at the $\\alpha=0.01$ confidence level, using just the five samples?"
   ]
  },
  {
   "cell_type": "markdown",
   "id": "bca54a14-cc94-4bc9-aed0-4982894a93c1",
   "metadata": {},
   "source": [
    "- In class, we discussed a two sample t-test using two different datasets. With that, we used the [scipy.stats.ttest_ind()](https://docs.scipy.org/doc/scipy/reference/generated/scipy.stats.ttest_ind.html) function.\n",
    "- But here, we don't have the other dataset, just it's statistics so we should use [scipy.stats.ttest_ind_from_stats()](https://docs.scipy.org/doc/scipy/reference/generated/scipy.stats.ttest_ind_from_stats.html) instead!"
   ]
  },
  {
   "cell_type": "code",
   "execution_count": 18,
   "id": "ebe9277c-c91a-4fb5-b243-8cea11788537",
   "metadata": {},
   "outputs": [
    {
     "name": "stdout",
     "output_type": "stream",
     "text": [
      "The p-value for this test is 0.172. Since this is greater than our alpha, 0.01, we fail to reject the null hypothesis and conclude that the rate constant IS NOT different at the 0.01 confidence level\n"
     ]
    }
   ],
   "source": [
    "oldMean = 1.4\n",
    "oldStd = 0.3\n",
    "oldNum = 5\n",
    "\n",
    "tstat,pval = stats.ttest_ind_from_stats(mean1=mean, std1=std, nobs1=num, mean2=oldMean, std2=oldStd, nobs2=oldNum)\n",
    "\n",
    "if pval<alpha:\n",
    "    print(f'The p-value for this test is {pval:.3f}. Since this is less than our alpha, {alpha}, we reject the null hypothesis and conclude that the rate constant IS different at the {alpha} confidence level')\n",
    "else:\n",
    "    print(f'The p-value for this test is {pval:.3f}. Since this is greater than our alpha, {alpha}, we fail to reject the null hypothesis and conclude that the rate constant IS NOT different at the {alpha} confidence level')"
   ]
  },
  {
   "cell_type": "markdown",
   "id": "41c0af96",
   "metadata": {},
   "source": [
    "b) How many measurements would I have needed with my new enzyme (assuming the sample standard deviation remains the same) to conclude that the rate constant of the new enzyme is higher at the $\\alpha=0.01$ confidence level?"
   ]
  },
  {
   "cell_type": "code",
   "execution_count": 19,
   "id": "d72c1913-1eea-4495-aefc-cf12d001bd84",
   "metadata": {},
   "outputs": [
    {
     "name": "stdout",
     "output_type": "stream",
     "text": [
      "With 100000 measurements, the p-value for this test is 0.050. Since this is greater than our alpha, 0.01, we cannot conclude that the rate constant is different than the original enzyme at the 0.01 confidence level. \n",
      "\n",
      "We need more measurements!\n"
     ]
    }
   ],
   "source": [
    "# assume that mean and std (the mean and standard deviation of the new data measurements) stays the same, even though the number of measurements changes!\n",
    "num=100000\n",
    "\n",
    "tstat,pval = stats.ttest_ind_from_stats(mean1=mean, std1=std, nobs1=num, mean2=oldMean, std2=oldStd, nobs2=oldNum)\n",
    "\n",
    "if pval<alpha:\n",
    "    print(f'With {num} measurements, the p-value for this test is {pval:.3f}. Since this is less than our alpha, {alpha}, we can conclude that the rate constant is different than the original enzyme at the {alpha} confidence level!')\n",
    "else:\n",
    "    print(f'With {num} measurements, the p-value for this test is {pval:.3f}. Since this is greater than our alpha, {alpha}, we cannot conclude that the rate constant is different than the original enzyme at the {alpha} confidence level. \\n\\nWe need more measurements!')"
   ]
  },
  {
   "cell_type": "markdown",
   "id": "dfe12b4f-9ff8-4d62-8442-326ab612ca57",
   "metadata": {},
   "source": [
    "- No matter how high the number of measurements goes up to, the p-value won't go below 0.05. For these conditions, we can't ever make enough measurements to be able to conclude that the rate constant of the new enzyme is higher at the alpha = 0.01 confidence level."
   ]
  },
  {
   "cell_type": "markdown",
   "id": "3fb8eaef",
   "metadata": {},
   "source": [
    "c) How many more number of measurements I should make, *If I could allocate these measurements of both the old enzyme and of the new enzyme*, assuming the standard deviations and means stay the same with each measurement, to conclude that the rate constant of the new enzyme is larger? Is the assumption that the standard deviations stay the same reasonable?"
   ]
  },
  {
   "cell_type": "code",
   "execution_count": 20,
   "id": "c283c160",
   "metadata": {},
   "outputs": [
    {
     "name": "stdout",
     "output_type": "stream",
     "text": [
      "With 26 measurements, the p-value for this test is 0.009. Since this is less than our alpha, 0.01, we can conclude that the rate constant is different than the original enzyme at the 0.01 confidence level!\n"
     ]
    }
   ],
   "source": [
    "# assume that mean and std (the mean and standard deviation of the new data measurements) stays the same, even though the number of measurements changes!\n",
    "\n",
    "# assume that nobs1 and nobs2 are both = num !\n",
    "newMeasurements=26\n",
    "\n",
    "tstat,pval = stats.ttest_ind_from_stats(mean1=oldMean, std1=oldStd, nobs1=newMeasurements, mean2=mean, std2=std, nobs2=newMeasurements)\n",
    "\n",
    "if pval<alpha:\n",
    "    print(f'With {newMeasurements} measurements, the p-value for this test is {pval:.3f}. Since this is less than our alpha, {alpha}, we can conclude that the rate constant is different than the original enzyme at the {alpha} confidence level!')\n",
    "else:\n",
    "    print(f'With {newMeasurements} measurements, the p-value for this test is {pval:.3f}. Since this is greater than our alpha, {alpha}, we cannot conclude that the rate constant is different than the original enzyme at the {alpha} confidence level. \\n\\nWe need more measurements!')"
   ]
  },
  {
   "cell_type": "markdown",
   "id": "207bda11",
   "metadata": {},
   "source": [
    "d) It turns out that after I carry out new measurements of the enzyme described above, I end up with a p-value of 0.06. If I can show this new enzyme is statistically better than the old one, the paper will likely get in Science.  What is the minimum number of additional experiments I should run in order to get the the p-value low enough? "
   ]
  },
  {
   "cell_type": "markdown",
   "id": "9bf88b1d-d6fb-49d9-866b-42773993835d",
   "metadata": {},
   "source": [
    "- I used ChatGPT on this problem since I was pretty confused on how the p-value factored into the calculations.\n",
    "- ChatGPT made it seem like the p-value wouldn't get factored into a power analysis to determine the number of additional experiments needed\n",
    "- I'm not sure if this is correct, but I decided to take the approach of changing the number of measurements for the new data (assuming number of old measurements was 5 again) until the p-value for my test was less than 0.06?\n",
    "- I apologize if this isn't what we were supposed to do, I was just a bit confused on wording!"
   ]
  },
  {
   "cell_type": "code",
   "execution_count": 21,
   "id": "39ed2c12",
   "metadata": {},
   "outputs": [
    {
     "name": "stdout",
     "output_type": "stream",
     "text": [
      "With 119 measurements, the p-value for this test is 0.060. Since this is less than our 0.06, we can conclude that the rate constant is different than the original enzyme at the 0.01 confidence level!\n"
     ]
    }
   ],
   "source": [
    "data_p3 = np.array([1.6,1.4,1.3,1.8,1.9])\n",
    "mean = np.mean(data_p3)\n",
    "std = np.std(data_p3)\n",
    "alpha = 0.01\n",
    "\n",
    "oldMean = 1.4\n",
    "oldStd = 0.3\n",
    "oldNum = 5\n",
    "\n",
    "num=119\n",
    "\n",
    "tstat,pval = stats.ttest_ind_from_stats(mean1=mean, std1=std, nobs1=num, mean2=oldMean, std2=oldStd, nobs2=oldNum)\n",
    "\n",
    "if pval<0.06:\n",
    "    print(f'With {num} measurements, the p-value for this test is {pval:.3f}. Since this is less than our 0.06, we can conclude that the rate constant is different than the original enzyme at the {alpha} confidence level!')\n",
    "else:\n",
    "    print(f'With {num} measurements, the p-value for this test is {pval:.3f}. Since this is greater than 0.06, we cannot conclude that the rate constant is different than the original enzyme at the {alpha} confidence level. \\n\\nWe need more measurements!')"
   ]
  },
  {
   "cell_type": "markdown",
   "id": "5ffe380c",
   "metadata": {},
   "source": [
    "**HW 9-6**. I perform one experiment, generating one set of data, then peform another experiment on the same samples. We want to determine if the effect on the samples is statistically signficant. We'll make up some data so we can see what's going on. We'll say the treatment just increases the value by a little bit, with some random noise."
   ]
  },
  {
   "cell_type": "code",
   "execution_count": 22,
   "id": "1184bd10",
   "metadata": {},
   "outputs": [
    {
     "data": {
      "text/plain": [
       "(array([4., 1., 2., 2., 0., 0., 0., 0., 0., 1.]),\n",
       " array([1.09201064, 1.50692553, 1.92184043, 2.33675532, 2.75167022,\n",
       "        3.16658511, 3.5815    , 3.9964149 , 4.41132979, 4.82624469,\n",
       "        5.24115958]),\n",
       " <BarContainer object of 10 artists>)"
      ]
     },
     "execution_count": 22,
     "metadata": {},
     "output_type": "execute_result"
    },
    {
     "data": {
      "image/png": "[encoded data removed]",
      "text/plain": [
       "<Figure size 640x480 with 1 Axes>"
      ]
     },
     "metadata": {},
     "output_type": "display_data"
    }
   ],
   "source": [
    "sample_size = 10 # create samples\n",
    "b = 1.5\n",
    "samp1 = scipy.stats.pareto.rvs(b,size=sample_size)\n",
    "samp2 = samp1 + 0.03 + 0.01*np.random.normal(size=sample_size)\n",
    "plt.hist(samp1)\n",
    "plt.hist(samp2)"
   ]
  },
  {
   "cell_type": "markdown",
   "id": "4b34c5a9",
   "metadata": {},
   "source": [
    "Run the Mann-Whitney U / Wilcoxon rank-sum test, the Wilcoxon signed-rank test, and the standard t-test for paired samples. Explain what you find in the Markdown cell below, and which test is the best one to use to determine if there is an effect."
   ]
  },
  {
   "cell_type": "code",
   "execution_count": 23,
   "id": "c1ab455e-90a4-4ae6-b13c-6e9a30b5178d",
   "metadata": {},
   "outputs": [
    {
     "name": "stdout",
     "output_type": "stream",
     "text": [
      "Mann-Whitney U (Wilcoxon rank-sum) test p-value: 0.5708\n",
      "Wilcoxon signed-rank test p-value: 0.0020\n",
      "Standard t-test for paired samples p-value: 3.7925e-07\n"
     ]
    }
   ],
   "source": [
    "# Mann-Whitney U (Wilcoxon rank-sum) test\n",
    "u_tstat, pval_mannWhitney = scipy.stats.mannwhitneyu(samp1, samp2)\n",
    "\n",
    "# Wilcoxon signed-rank test\n",
    "w_tstat, pval_wilcoxon = scipy.stats.wilcoxon(samp1, samp2)\n",
    "\n",
    "# Paired t-test\n",
    "t_tstat, pval_paired = scipy.stats.ttest_rel(samp1, samp2)\n",
    "\n",
    "print(f\"Mann-Whitney U (Wilcoxon rank-sum) test p-value: {pval_mannWhitney:.4f}\")\n",
    "print(f\"Wilcoxon signed-rank test p-value: {pval_wilcoxon:.4f}\")\n",
    "print(f\"Standard t-test for paired samples p-value: {pval_paired:.4e}\")"
   ]
  },
  {
   "cell_type": "markdown",
   "id": "50e8b0c6-3c9b-449f-b59f-5187dd30d983",
   "metadata": {},
   "source": [
    "- Found that the p-values varied greatly depending on the test used!\n",
    "- The [Mann Whiteney U Test](https://sphweb.bumc.bu.edu/otlt/mph-modules/bs/bs704_nonparametric/bs704_nonparametric4.html) is used to test if two data sets are coming from the same population. In other words, it is testing if the two data sets have the same or different distributions. Here, the p-value is greater than a threshold alpha of 0.01, so we can't claim that the distributions of the two datasets would be significantly different (i.e., we can't say that they come from different distributions).\n",
    "- The [Wilcoxon Signed-Rank Test](https://sphweb.bumc.bu.edu/otlt/mph-modules/bs/bs704_nonparametric/BS704_Nonparametric6.html) tests matched / paired data. It takes into account the magnitude of observed differences. Here, the p-value is less than a threshold alpha of 0.01, which suggests that there would be a significant difference between these two paired datasets.\n",
    "- The [Standard T-Test for Paired Samples](https://sphweb.bumc.bu.edu/otlt/mph-modules/bs/sas/sas4-onesamplettest/SAS4-OneSampleTtest7.html) compares the means of two paired datsets to determine whether or not there is a statistically significant difference between them. Here, the p-value is less than a threshold alpha of 0.01, which suggests that there would be a significant difference between these two paired datasets. This test assumes that the differences are normally distributed ([Stack Exchange](https://stats.stackexchange.com/questions/495848/paired-t-test-check-normality-with-residuals-or-paired-differences-or-both#:~:text=A%20paired%20t%2Dtest%20is,differences%20minus%20the%20mean%20difference.))!\n",
    "\n",
    "- I would guess that the Wilcoxon Signed-Rank Test is best to determine if there is an effect because it doesn't have the assumptions of the standard t-test and provides good evidence that the datasets are different. "
   ]
  },
  {
   "cell_type": "markdown",
   "id": "fcf3faf3",
   "metadata": {},
   "source": [
    "#### HW 9-7. The Bejamini-Hochberg procedure\n",
    "\n",
    "The Bejamini-Hotchberg procedure allows us to set a p-value for set of simultaneous experiments with a controlled FDR (false discovery rate) This homework problem is the same as the one presented in class, but I changed some of the numbers.\n",
    "\n",
    "We carry out an experiment where we measure 1000 bacterial genes, treat the bacteria, and measure the log change in expression (data generated below). We repeat the experiment  $N$  times. We anticipate an effect change of 0.5. We want a false discovery rate of no more than 10% ($Q=0.10$). What threshold p-value should we set?"
   ]
  },
  {
   "cell_type": "code",
   "execution_count": 24,
   "id": "c17e621a",
   "metadata": {},
   "outputs": [
    {
     "data": {
      "text/plain": [
       "<function matplotlib.pyplot.show(close=None, block=None)>"
      ]
     },
     "execution_count": 24,
     "metadata": {},
     "output_type": "execute_result"
    },
    {
     "data": {
      "image/png": "[encoded data removed]",
      "text/plain": [
       "<Figure size 640x480 with 1 Axes>"
      ]
     },
     "metadata": {},
     "output_type": "display_data"
    }
   ],
   "source": [
    "nvariables = 1000 # number of variables are are testing during our experiment.\n",
    "# nvariables=100000 - changed this in the last part to see how FDR changes\n",
    "Q = 0.1 # desired false discovery rate\n",
    "nrepeats = 65 # is this a good for N? How could we know?\n",
    "data = np.zeros([nvariables,nrepeats])\n",
    "normsample = scipy.stats.norm(loc=0,scale=0.1)\n",
    "for i in range(nvariables):\n",
    "    data[i,:] = normsample.rvs(nrepeats)\n",
    "    \n",
    "# Now let's say that the first 100 are actually the ones that have an \n",
    "# increase in expression.  Let's see if we can figure that out.\n",
    "data[0:100,:]= data[0:100,:] + 0.04\n",
    "plt.plot(np.mean(data,axis=1))\n",
    "plt.show"
   ]
  },
  {
   "cell_type": "markdown",
   "id": "04728ebb",
   "metadata": {},
   "source": [
    "For each of the `nvariable` experiments, we want to know if it is statistically different from zero. What test should we run on each experiment? Try on the first experiment (`data[0,:]`)"
   ]
  },
  {
   "cell_type": "code",
   "execution_count": 25,
   "id": "eb8ba1cd",
   "metadata": {},
   "outputs": [],
   "source": [
    "# run a 1 sample ttest on each experiment!\n",
    "tstat, pval = scipy.stats.ttest_1samp(data[0, :], popmean=0)"
   ]
  },
  {
   "cell_type": "markdown",
   "id": "299ab644",
   "metadata": {},
   "source": [
    "Now calculate the p-value of each of the `nvariable` experiments, and put them in a list."
   ]
  },
  {
   "cell_type": "code",
   "execution_count": 26,
   "id": "11d6a740-2f87-43ef-a428-e72dbe0cc75f",
   "metadata": {},
   "outputs": [],
   "source": [
    "# initialize a list of p-values to store the p-value of each of the nvariable experiments in\n",
    "pval_list = []\n",
    "\n",
    "# for each of the nvariable experiments, calculate the tstat + pval and store the pval in the pval list\n",
    "for i in range(nvariables):\n",
    "    tstat, pval = scipy.stats.ttest_1samp(data[i, :], popmean=0)\n",
    "    pval_list.append(pval)"
   ]
  },
  {
   "cell_type": "markdown",
   "id": "12cd3b5c",
   "metadata": {},
   "source": [
    "Now, sort the `nvariables` p-values in ascending order."
   ]
  },
  {
   "cell_type": "code",
   "execution_count": 27,
   "id": "0403aec0",
   "metadata": {},
   "outputs": [],
   "source": [
    "# ChatGPT used here - I was having trouble with the list sorting...\n",
    "# sort the pvals in ascending order!\n",
    "sorted_pval = [pval_list[i] for i in np.argsort(pval_list)]"
   ]
  },
  {
   "cell_type": "markdown",
   "id": "df9b316e",
   "metadata": {},
   "source": [
    "Each of the `nvariable` p-values has a rank $m = (1,2,3,\\ldots)$; the smallest has rank 1, the second smallest has rank 2, the last has rank `nvariable`. Calculate the critical value for each p-value, defined as $\\frac{mQ}{nvariables}$, where $Q$ is the desired false discovery rate (FDR)."
   ]
  },
  {
   "cell_type": "code",
   "execution_count": 28,
   "id": "cfd1c8eb",
   "metadata": {},
   "outputs": [],
   "source": [
    "# intialize a list of critical values for each p-value\n",
    "critval = []\n",
    "\n",
    "# ChatGPT was used here to help me with writing this for loop : )\n",
    "# loop through each sorted pval and calculate cval\n",
    "for m, pval in enumerate(sorted_pval, start=1):\n",
    "    cval = (m * Q) / nvariables\n",
    "    critval.append(cval)"
   ]
  },
  {
   "cell_type": "markdown",
   "id": "59c9eac1",
   "metadata": {},
   "source": [
    "Now compare the set of critical values to the corresponding set of p-values. Now, which is the largest p-value that is smaller than its corresponding critical value? THAT is the corrected p-value."
   ]
  },
  {
   "cell_type": "code",
   "execution_count": 29,
   "id": "d68e5d06",
   "metadata": {},
   "outputs": [
    {
     "name": "stdout",
     "output_type": "stream",
     "text": [
      "The corrected p-value is 0.00682\n"
     ]
    }
   ],
   "source": [
    "corr_pval = 0 # initialize the corrected p-value\n",
    "\n",
    "for pval, cval in zip(sorted_pval, critval): # compare the set of cvals to the corresponding set of pvals\n",
    "    if pval <= cval: \n",
    "        # find the largest pval which is smaller than its corresponding cval\n",
    "        # since pvals are sorted in ascending order, just replace corr_pval as we iterate thru the list\n",
    "        # since the new corr_pval will be the largest pval smaller than its corresponding cval!\n",
    "        corr_pval = pval\n",
    "    else:\n",
    "        break\n",
    "\n",
    "print(f'The corrected p-value is {corr_pval:.5f}')"
   ]
  },
  {
   "cell_type": "markdown",
   "id": "3d5dd6fc",
   "metadata": {},
   "source": [
    "What percentage of the experiments with p-value less than the corrected p-value are in the first 100 experiments (the ones we set to be a bit higher)?"
   ]
  },
  {
   "cell_type": "code",
   "execution_count": 30,
   "id": "7fe15cb7-734f-4d7a-acca-1d06ec0bed72",
   "metadata": {},
   "outputs": [
    {
     "name": "stdout",
     "output_type": "stream",
     "text": [
      "79.0% of experiments with p-values less than the corrected p-value are in the first 100 experiments.\n"
     ]
    }
   ],
   "source": [
    "firstHundred = 100\n",
    "count = 0\n",
    "\n",
    "for i in range(firstHundred):\n",
    "    if sorted_pval[i] <= corr_pval:\n",
    "        count +=1\n",
    "\n",
    "print(f'{count/firstHundred*100}% of experiments with p-values less than the corrected p-value are in the first 100 experiments.')"
   ]
  },
  {
   "cell_type": "markdown",
   "id": "e955068c",
   "metadata": {},
   "source": [
    "What percentage of the experiments with p-value less than than the corrected p-value are in the last 900 experiments?"
   ]
  },
  {
   "cell_type": "code",
   "execution_count": 31,
   "id": "5cba1f69",
   "metadata": {},
   "outputs": [
    {
     "name": "stdout",
     "output_type": "stream",
     "text": [
      "21.0% of experiments with p-values less than the corrected p-value are in the last 900 experiments.\n"
     ]
    }
   ],
   "source": [
    "print(f'{100-count/firstHundred*100}% of experiments with p-values less than the corrected p-value are in the last 900 experiments.')"
   ]
  },
  {
   "cell_type": "markdown",
   "id": "3f5207b8",
   "metadata": {},
   "source": [
    "What is the false discovery rate? How close is it to the target $Q$? Try the whole process a few times with different experiments to see how much the true false discovery rate changes."
   ]
  },
  {
   "cell_type": "markdown",
   "id": "f37aef8d-0112-41ce-aefe-2b0c182e7cb9",
   "metadata": {},
   "source": [
    "- I think the false discover rate would just the percentage of experiments with p-values less than the corrected p-value in the first 100 experiments since that would be the false positive rate. For the original problem parameters, this would be 60%.\n",
    "- Change nvariables to 10000 makes the false discovery rate 10.0%.\n",
    "- Further increasing nvariables to 100000 decreases the FDR even more to 2.0%"
   ]
  },
  {
   "cell_type": "code",
   "execution_count": null,
   "id": "1f0da4b0-4a84-413b-a125-0ba1260b0bb5",
   "metadata": {},
   "outputs": [],
   "source": []
  }
 ],
 "metadata": {
  "kernelspec": {
   "display_name": "Python 3 (ipykernel)",
   "language": "python",
   "name": "python3"
  },
  "language_info": {
   "codemirror_mode": {
    "name": "ipython",
    "version": 3
   },
   "file_extension": ".py",
   "mimetype": "text/x-python",
   "name": "python",
   "nbconvert_exporter": "python",
   "pygments_lexer": "ipython3",
   "version": "3.11.5"
  }
 },
 "nbformat": 4,
 "nbformat_minor": 5
}
