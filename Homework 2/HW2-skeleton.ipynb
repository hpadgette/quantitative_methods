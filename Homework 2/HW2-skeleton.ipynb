{
 "cells": [
  {
   "cell_type": "markdown",
   "metadata": {},
   "source": [
    "# Skeleton for HW2\n",
    "Rename this file and place your code in this notebook.\n",
    "\n",
    "Please note the number of hours you spent on the HW. \n",
    "\n",
    "Before you turn in your homework, \"Restart & Clear Output\" from the kernel menu, to make sure your notebook executes correctly when run in order!"
   ]
  },
  {
   "cell_type": "markdown",
   "metadata": {},
   "source": [
    "**Note: If a cell begins with HW: do not change it and leave the markdown there so I can expect a basic level of  organization that is common to all HW. This also clearly delineates the sections for me.**"
   ]
  },
  {
   "cell_type": "markdown",
   "metadata": {},
   "source": [
    "#### HW: Preamble: load all needed packages in the cell below."
   ]
  },
  {
   "cell_type": "markdown",
   "metadata": {
    "collapsed": true,
    "jupyter": {
     "outputs_hidden": true
    }
   },
   "source": [
    "### HW: Part 1: Functional programming\n",
    "\n",
    "\n",
    "**HW 1-1:** The “divide and average” method is a numerical method for computing square roots that goes back to the ancient Babylonians. The method takes as inputs the number for which the square root is wanted (call it $a$) and a guess for the square root, $x_i$. \n",
    "\n",
    "$\\begin{eqnarray}x_{i+1} = \\frac{x_i + \\frac{a}{x_i}}{2}\\end{eqnarray}$\n",
    "\n",
    "This method then gives a new, better guess for the square root. The method can be repeated until the answer converges to the square root."
   ]
  },
  {
   "cell_type": "markdown",
   "metadata": {},
   "source": [
    "a) Write a function that takes in a value for $a$ and a tolerance $\\delta$, and returns a value for the square root within $\\delta$ of the true answer."
   ]
  },
  {
   "cell_type": "code",
   "execution_count": null,
   "metadata": {},
   "outputs": [],
   "source": []
  },
  {
   "cell_type": "markdown",
   "metadata": {},
   "source": [
    "b) Call your function to compute the square root of 9, 67, and 2023 to within one part in $10^6$. Check with the square root function in Python `math` module that your answers are right."
   ]
  },
  {
   "cell_type": "code",
   "execution_count": null,
   "metadata": {},
   "outputs": [],
   "source": []
  },
  {
   "cell_type": "markdown",
   "metadata": {},
   "source": [
    "c) Note that I did not specify the value of $x_i$ that you start with. What are the requirements for the starting value so that we eventually converge to the correct square root? Play around and report your observations."
   ]
  },
  {
   "cell_type": "code",
   "execution_count": null,
   "metadata": {},
   "outputs": [],
   "source": []
  },
  {
   "cell_type": "markdown",
   "metadata": {},
   "source": [
    "d) Describe how the error decreases as a function of how close to the true solution you are."
   ]
  },
  {
   "cell_type": "code",
   "execution_count": null,
   "metadata": {},
   "outputs": [],
   "source": []
  },
  {
   "cell_type": "markdown",
   "metadata": {},
   "source": [
    "#### HW Part 2: Generalization"
   ]
  },
  {
   "cell_type": "markdown",
   "metadata": {},
   "source": [
    "Write a function that produces the prime factorization of an input integer.  The function should return a dictionary with the prime factor as a key, and the power of that prime factor as the value. The dictionary should only include values with at least power 1, i.e. the results dictionary returned for input=60 would be: \n",
    "\n",
    "``results = {2:2,3:1,5:1}``\n",
    "\n",
    "If you did the full prime factorization in HW1, congratulations, just turn it into a function. Demonstrate that the program does work on several problems that show off the functionality (i.e. prime numbers, powers of a single prime, multiples of only primes to one power, etc). "
   ]
  },
  {
   "cell_type": "markdown",
   "metadata": {
    "collapsed": true,
    "jupyter": {
     "outputs_hidden": true
    }
   },
   "source": [
    "#### HW Part 3: Exploration \n",
    "Continue to play around Python test out a range of functionality that wasn’t covered in class. Each hour your spend learning Python tools now will save you about 30 min per week in trying to get things done later!\n",
    "\n",
    "Write in a Markdown cell a couple of paragraphs about what you did, and give some examples of code cells below the cool things you found."
   ]
  },
  {
   "cell_type": "code",
   "execution_count": null,
   "metadata": {},
   "outputs": [],
   "source": []
  }
 ],
 "metadata": {
  "anaconda-cloud": {},
  "kernelspec": {
   "display_name": "Python 3 (ipykernel)",
   "language": "python",
   "name": "python3"
  },
  "language_info": {
   "codemirror_mode": {
    "name": "ipython",
    "version": 3
   },
   "file_extension": ".py",
   "mimetype": "text/x-python",
   "name": "python",
   "nbconvert_exporter": "python",
   "pygments_lexer": "ipython3",
   "version": "3.11.5"
  }
 },
 "nbformat": 4,
 "nbformat_minor": 4
}
