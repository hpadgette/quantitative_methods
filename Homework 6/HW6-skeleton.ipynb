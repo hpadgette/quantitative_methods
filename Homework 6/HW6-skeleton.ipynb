{
 "cells": [
  {
   "cell_type": "markdown",
   "metadata": {},
   "source": [
    "### Skeleton for HW5\n",
    "Rename this file and place your code here."
   ]
  },
  {
   "cell_type": "markdown",
   "metadata": {},
   "source": [
    "**Note: If a cell begins with HW: do not change it and leave the markdown there so I can expect a basic level of  organization that is common to all HW. This also clearly delineates the sections for me.**"
   ]
  },
  {
   "cell_type": "markdown",
   "metadata": {},
   "source": [
    "#### HW: For the preamble, leave any general comments here and load all needed modules"
   ]
  },
  {
   "cell_type": "code",
   "execution_count": 24,
   "metadata": {},
   "outputs": [],
   "source": [
    "import numpy as np\n",
    "import matplotlib.pyplot as plt\n",
    "from scipy import optimize"
   ]
  },
  {
   "cell_type": "markdown",
   "metadata": {},
   "source": [
    "### Part 1: Root Finding"
   ]
  },
  {
   "cell_type": "markdown",
   "metadata": {},
   "source": [
    "**HW 5-1**: (scalar root finding) Assume the Redlich-Kwong equation of state for calculating the pressure as a function molar volume. \n",
    "\n",
    "$P = \\frac{RT}{v-b} - \\frac{a}{v(v+b)\\sqrt{T}}$\n",
    "\n",
    "For methane, $a$ and $b$ can be well estimated using the \n",
    "critical temperature ($T_c = 191$ K) and pressure ($P_c = 4580$ kPA).\n",
    "\\begin{eqnarray*}\n",
    "a = \\frac{0.427 R^2 T_c^{2.5}}{P_c} \\\\\n",
    "b = \\frac{0.0866RT_c}{P_c}\n",
    "\\end{eqnarray*}\n",
    "\n",
    "a. Assume our standard operating pressure is 300 kPa. Find the smallest specific volume of gas with pressure < 300 kPa (units are m$^3$/kg) at 500 K. This helps us set the minimum size of our container. Use a method with brackets.\n",
    "\n",
    "b. Given this specific volume of gas, what is the maximum temperature we can have such that the pressure remains below 500 kPa? "
   ]
  },
  {
   "cell_type": "code",
   "execution_count": null,
   "metadata": {},
   "outputs": [],
   "source": []
  },
  {
   "cell_type": "markdown",
   "metadata": {},
   "source": [
    "**HW 5-2**: (solving simultaneous equations) You are given a continuously stirred tank reactor, operating isothermally with negligible volume change on reaction, with two chemical reactions occurring with stoichiometry:\n",
    "\n",
    "\\begin{eqnarray*}\n",
    "A + B \\rightarrow C \\\\\n",
    "C + 2B \\rightarrow D \\\\\n",
    "\\end{eqnarray*}\n",
    "\n",
    "Where the rate of the first reaction is $r_{R1}=k_1 C_A C_B$, and the rate of the second reaction is $r_{R2} = k_2 C_B^2 C_C$.  There is a single inlet, single outlet, with volumetric flow $v$. The total volume is $V$.\n",
    "\n",
    "We can set up the mass balances of the species to find that at steady state (accumulation = inflow - outflow + creation - destruction = 0) is: \n",
    "\\begin{eqnarray*}\n",
    "0 &=& vC_{A,in} - vC_A - k_1 V C_A C_B \\\\\n",
    "0 &=& vC_{B,in} - vC_B - k_2 V C_B^2 C_C - k_1 V C_A C_B \\\\\n",
    "0 &=& vC_{C,in} - vC_C + k_1 V C_A C_B - k_2 V C_B^2 C_C \\\\\n",
    "0 &=& vC_{D,in} - vC_D + k_2 V C_B^2 C_C \\\\\n",
    "\\end{eqnarray*} \n",
    "\n",
    "a. Solve for the steady state when concentration in the inlet flow is $[C_{A,in},C_{B,in},C_{C,in},C_{D,in}] = [0.1,0.1,0,0]$ mol/L, $k_1 = 2$ L mol$^{-1}$ s$^{-1}$, $k_2 = 0.5$ L$^2$ mol$^{-2}$ s$^{-1}$, $v=5$ L/s, and $V = 100$ L.  \n",
    "\n",
    "b. Plot the two cases of steady-state concentrations as a function of rate $k_2$, and of the flow $v$, in both cases leaving all other concentrations the same as a."
   ]
  },
  {
   "cell_type": "code",
   "execution_count": null,
   "metadata": {},
   "outputs": [],
   "source": []
  },
  {
   "cell_type": "markdown",
   "metadata": {},
   "source": [
    "**HW 5-3**: (single variable optimization) We are interested in finding the nutrient level that will maximize the growth of a strain of yeast. We are given that the growth rate $r$ as a function of the concentration of nutrients $c$ is:\n",
    "\n",
    "$r(c) = \\frac{2c}{4+0.8c+1.0c^2+0.2c^3}$\n",
    "\n",
    "Find the maximum rate using methods `brent` and `golden` with `minimize_scalar`, and `Nelder-Mead`, `BFGS`, and `Newton-CG` with `minimize`, and compare the number of function evaluations used. "
   ]
  },
  {
   "cell_type": "code",
   "execution_count": null,
   "metadata": {},
   "outputs": [],
   "source": []
  },
  {
   "cell_type": "markdown",
   "metadata": {},
   "source": [
    "**HW 5-4**: (properties of multidimensional optimization) \n",
    "\n",
    "a. Find a maximum of the function:\n",
    "\n",
    "$f(x,y,z) = 5x−5y +x^3 −x^8 +2xy−3y^2 −2z^2 −x^2z$"
   ]
  },
  {
   "cell_type": "markdown",
   "metadata": {},
   "source": [
    "with approximate relative error to within a tolerance of $10^{−8}$. Report the value of the point $[x, y, z]$ and the value of $f$ at this point, the value of the gradient at the point, and proof that the point is indeed a maximum. Use $[2,1,0]$ as the initial point. Use Nelder-Mead, BFGS, and Newton-CG approaches.\n",
    "\n",
    "b. Estimate the computational cost of the three approaches. You can assume that the gradient costs approximately 3 times as much as a functional evaluation, and a Hessian costs 9 times as much as a function evaluatlion. Assume any linear algebra takes negligible time. Check using timing commands to compare to the estimate. \n"
   ]
  },
  {
   "cell_type": "code",
   "execution_count": null,
   "metadata": {},
   "outputs": [],
   "source": []
  },
  {
   "cell_type": "markdown",
   "metadata": {},
   "source": [
    "**HW 5-5**: (Complex, real life optimizations): The cost of refined oil when shipped via the Malacca Straits to Japan in dollars per kiloliter was estimated (Uchiyama, 1968) as the\n",
    "  linear sum of the crude oil cost, the insurance, customs, freight\n",
    "  cost for the oil, loading and unloading cost, sea berth cost,\n",
    "  submarine pipe cost, storage cost, tank area cost, refining cost,\n",
    "  and freight cost of products as:\n",
    "\\begin{eqnarray*} \n",
    "f &=&  c_c + c_i + c_x + 580.6 t^{-0.3017}  + 56.33 \\frac{at^{-0.4925}}{q} + \\\\ \n",
    " & & 2.245 \\frac{at^{0.7952}}{q} + 0.000096\\frac{ip(nt+1.2q)^{0.861}}{q} +  \\\\\n",
    " & & 0.225 \\frac{a(nt+1.2q)}{q} + 14.0q^{-0.1899} + 0.000291 q^{0.671}\n",
    "\\end{eqnarray*}\n",
    "Where: "
   ]
  },
  {
   "cell_type": "markdown",
   "metadata": {},
   "source": [
    "\n",
    "variable | value | description\n",
    "-------| --------| -------------\n",
    "$c_i$ | 16.40 | insurance cost \\$/kL \n",
    "$c_c$ | 570 | crude oil price \\$/kL \n",
    "$c_x$ | 22.15 | customs cost \\$/kL \n",
    "$a$ | 0.20 | annual fixed charge fraction \n",
    "$i$ | 0.03 | interest rate \n",
    "$n$ | 2    | number of ports \n",
    "$p$ | 70,000 | land price (\\$/m^2)  \n",
    "$q$ |  ? | Refinery capacity, bbl/day \n",
    "$t$ |  ? | Tanker size, kL |\n",
    "\n",
    "\n",
    "Given these values, compute the minimum cost of refined oil and the\n",
    "optimum tanker size $t$ and refinery size $q$ using any scipy method (note that 1 kL = 6.29 bbl).  Plot the minimum as a function of $t$ and $q$ around the obtained minimum."
   ]
  },
  {
   "cell_type": "code",
   "execution_count": null,
   "metadata": {},
   "outputs": [],
   "source": []
  }
 ],
 "metadata": {
  "anaconda-cloud": {},
  "kernelspec": {
   "display_name": "Python 3 (ipykernel)",
   "language": "python",
   "name": "python3"
  },
  "language_info": {
   "codemirror_mode": {
    "name": "ipython",
    "version": 3
   },
   "file_extension": ".py",
   "mimetype": "text/x-python",
   "name": "python",
   "nbconvert_exporter": "python",
   "pygments_lexer": "ipython3",
   "version": "3.11.5"
  }
 },
 "nbformat": 4,
 "nbformat_minor": 4
}
