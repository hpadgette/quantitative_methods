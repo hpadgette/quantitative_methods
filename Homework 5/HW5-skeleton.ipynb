{
 "cells": [
  {
   "cell_type": "markdown",
   "metadata": {},
   "source": [
    "### Skeleton for HW5\n",
    "Rename this file and place your code here."
   ]
  },
  {
   "cell_type": "markdown",
   "metadata": {},
   "source": [
    "**Note: If a cell begins with HW: do not change it and leave the markdown there so I can expect a basic level of  organization that is common to all HW. This also clearly delineates the sections for me.**"
   ]
  },
  {
   "cell_type": "markdown",
   "metadata": {},
   "source": [
    "#### HW: For the preamble, leave any general comments here and load all needed modules"
   ]
  },
  {
   "cell_type": "code",
   "execution_count": 14,
   "metadata": {},
   "outputs": [],
   "source": [
    "import numpy as np\n",
    "import matplotlib.pyplot as plt"
   ]
  },
  {
   "cell_type": "markdown",
   "metadata": {},
   "source": [
    "**HW 4-1**: The differential steady state mass balance for a compound moving along a plug-flow reactor as a function of distance along te reactor while undergoing a first-order decomposition is:"
   ]
  },
  {
   "cell_type": "markdown",
   "metadata": {},
   "source": [
    "\\begin{equation*}\n",
    "D\\left(\\frac{\\partial^2 c}{\\partial x^2}\\right) - U \\left( \\frac{\\partial c}{\\partial x}\\right) - kc = 0\n",
    "\\end{equation*}\n",
    "\n",
    "where $C$ is the concentration, $x$ is the distance along the reactor, $D$ is the diffusion constant, $U$ is the fluid velocity, and $k$ is the reaction rate.  This can be converted into a series of simultaneous linear equations by approximating the first and second derivatives by the following approximations accurate to a remainder proportional to $\\Delta x^2$:\n",
    "\n",
    "\\begin{eqnarray*}\n",
    "\\left(\\frac{\\partial^2 c}{\\partial x^2}\\right) &\\approx& \\frac{c(x+\\Delta x) - 2 c(x) + c(x-\\Delta x)}{\\Delta x^2} \\\\\n",
    "\\left(\\frac{\\partial c}{\\partial x}\\right) &\\approx& \\frac{c(x+\\Delta x) - c(x-\\Delta x)}{2\\Delta x} \n",
    "\\end{eqnarray*}\n"
   ]
  },
  {
   "cell_type": "markdown",
   "metadata": {},
   "source": [
    "Given $D=1$, $U=$1.5, $k=0.2$, $c(0)=80$, and $c(10)=10$, estimate $c(x)$.  Determine how small $\\Delta x$ has to be to for $c(x)$ to be correct to within 1%. Report on the condition number at each $\\Delta x$ you try. "
   ]
  },
  {
   "cell_type": "code",
   "execution_count": null,
   "metadata": {},
   "outputs": [],
   "source": []
  },
  {
   "cell_type": "markdown",
   "metadata": {},
   "source": [
    "**HW 4-2**: The first order reaction $A\\rightarrow B$ takes place in two\n",
    "  reactors in series. The reactors are well-mixed. The transient mass\n",
    "  balances gives the system of differential equations:\n",
    "\n",
    "\\begin{eqnarray*}\n",
    "\\frac{dC_{A1}}{dt} &=& \\frac{1}{\\tau_1} (C_{A0} - C_{A1}) - k_1 C_{A1}\\\\\n",
    "\\frac{dC_{B1}}{dt} &=& -\\frac{1}{\\tau_1} C_{B1} + k_1 C_{A1} \\\\\n",
    "\\frac{dC_{A2}}{dt} &=& \\frac{1}{\\tau_2} (C_{A1} - C_{A2}) - k_2 C_{A2} \\\\\n",
    "\\frac{dC_{B2}}{dt} &=& \\frac{1}{\\tau_2} (C_{B1} - C_{B2}) + k_2 C_{A2}\n",
    "\\end{eqnarray*}\n",
    "\n",
    "Where $\\tau_i$ is the residence time for each reactor, defined as the\n",
    "reactor volume divided by the total (volumetric) flow rate, $C_{Ai}$\n",
    "and $C_{Bi}$ are the concentrations in the $i$th reactor, $k_1$ and\n",
    "$k_2$ are the rate constants in each reactor (which are different\n",
    "because of the different conditions in each reactor) and $C_{A0}$ is\n",
    "the concentration of $A$ in the flow entering the first\n",
    "reactor. \n",
    "\n",
    "Assume $\\tau_1$ = 6 min, $\\tau_2$ = 4 min, $k_1$ = 0.16\n",
    "min$^{-1}$, $k_2$ =0.14 min$^{-1}$, and $C_{A0}$ = 0.20 M. At\n",
    "$t=0$,$C_{A1}=C_{B1}=C_{A2}=C_{B2}=0$.\n",
    "\n",
    "Note that the above can be written in matrix form as \n",
    "\\begin{eqnarray*}\n",
    "\\frac{d}{dt}\\begin{pmatrix}C_{A1} \\\\ C_{B1} \\\\  C_{A2} \\\\ C_{B2} \\end{pmatrix} = \n",
    "\\begin{pmatrix} -\\tau_1^{-1} - k_1  &               0     &  0                        &      0\\\\\n",
    "                              k_1  &   -{\\tau_1}^{-1}  &  0                        &      0\\\\\n",
    "                 \\tau_2^{-1}  &               0     &  -{\\tau_2}^{-1} - k_2   &  0 \\\\\n",
    "                            0      &     {\\tau_2}^{-1} &  k_2                      & -{\\tau_2}^{-1} \n",
    "\\end{pmatrix} \\begin{pmatrix}C_{A1} \\\\ C_{B1} \\\\  C_{A2} \\\\ C_{B2} \\end{pmatrix} + \n",
    "\\begin{pmatrix}\\frac{C_{A0}}{\\tau_1} \\\\ 0 \\\\  0 \\\\ 0 \\end{pmatrix}\n",
    "\\end{eqnarray*}\n",
    "Which can be written in the form $\\frac{d\\vec{X}}{dt} = A\\vec{X} + \\vec{B}$.\n",
    "\n",
    "The solutions to this type of integration are of the form\n",
    "\\begin{eqnarray*}\n",
    "X(t) = \\sum_i c_i v_i e^{\\lambda_i t} - A^{-1}\\vec{B} \n",
    "\\end{eqnarray*}\n",
    "Where the $v_i$ and $\\lambda_i$ are the eigenvectors and eigenvalues of the matrix $A$, and the $c_i$ are constants that depend on the initial conditions.  See the matrix notes for more tips on how to solve such problems!\n",
    "\n",
    "To solve for the $c_i$, if we plug in $t=0$, the coefficients $c_i$ must satisfy the equation $\\vec{X}(0) + A ^{-1}\\vec{B} = \\sum_i c_i v_i = V\\vec{c}$. This is also matrix equation, with the left side being a vector, and the right side being a matrix $V$, with columns the eigenvectors, and $\\vec{c}$ the vector of constants. Solving this matrix equation gives the $c_i$, which can be checked that they satisfy the initial conditions. \n",
    "\n",
    "\n",
    "a) Generate the analytical solutions for the transient concentrations. Graph and explain the results. Use numpy/Python to perform any linear algebra, calculations of eigenvalues, and solutions of initial value conditions.\n",
    "\n",
    "b) Solve the differential equation using `scipy.integrate.solve_ivp` with several integration methods and compare to the analytical solution. Report any differences between methods that seem interesting (hint - they should just be numerical differences - both methods should work!). See what you need to do get smooth output curves for the analytical methods.\n",
    "\n",
    "c) Solve numerically except that instead of a constant $C_{A0} = 0.2M$, $C_{A0}$ is time-dependent, alternating with 10 minutes at 0.2M on (starting at t = 0) and 5 minutes off, repeating indefinitely. "
   ]
  },
  {
   "cell_type": "code",
   "execution_count": null,
   "metadata": {},
   "outputs": [],
   "source": []
  },
  {
   "cell_type": "markdown",
   "metadata": {},
   "source": [
    "**HW 4-3:** Solve problem 4-1 as a boundary value problem, using `solve_bvp`. Show the solutions match (up to the level of agreement you expect)."
   ]
  },
  {
   "cell_type": "code",
   "execution_count": null,
   "metadata": {},
   "outputs": [],
   "source": []
  },
  {
   "cell_type": "markdown",
   "metadata": {},
   "source": [
    "**HW 4-4:**  Continue to play around Python, especially `scipy`, to test out a range of functionality that wasn’t covered in class.\n",
    "\n",
    "Write in a Markdown cell a couple of paragraphs about what you did, and give some examples of code cells below with the cool things you found."
   ]
  },
  {
   "cell_type": "code",
   "execution_count": null,
   "metadata": {},
   "outputs": [],
   "source": []
  }
 ],
 "metadata": {
  "anaconda-cloud": {},
  "kernelspec": {
   "display_name": "Python 3 (ipykernel)",
   "language": "python",
   "name": "python3"
  },
  "language_info": {
   "codemirror_mode": {
    "name": "ipython",
    "version": 3
   },
   "file_extension": ".py",
   "mimetype": "text/x-python",
   "name": "python",
   "nbconvert_exporter": "python",
   "pygments_lexer": "ipython3",
   "version": "3.11.5"
  }
 },
 "nbformat": 4,
 "nbformat_minor": 4
}
